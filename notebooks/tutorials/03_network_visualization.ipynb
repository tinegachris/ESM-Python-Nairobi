{
 "cells": [
  {
   "cell_type": "markdown",
   "metadata": {},
   "source": [
    "# Network Visualization in PyPSA\n",
    "\n",
    "This tutorial covers how to visualize PyPSA networks using various plotting functions. We'll learn how to create static and interactive visualizations of network components, flows, and results.\n",
    "\n",
    "## Basic Network Plotting\n",
    "\n",
    "First, let's create a simple network to visualize:"
   ]
  },
  {
   "cell_type": "code",
   "execution_count": 1,
   "metadata": {},
   "outputs": [
    {
     "name": "stderr",
     "output_type": "stream",
     "text": [
      "C:\\Users\\User\\AppData\\Local\\Temp\\ipykernel_2308\\1122010578.py:8: FutureWarning: 'H' is deprecated and will be removed in a future version, please use 'h' instead.\n",
      "  network.set_snapshots(pd.date_range(\"2024-01-01\", periods=24, freq=\"H\"))\n"
     ]
    }
   ],
   "source": [
    "import pypsa\n",
    "import pandas as pd\n",
    "import numpy as np\n",
    "import matplotlib.pyplot as plt\n",
    "\n",
    "# Create network\n",
    "network = pypsa.Network()\n",
    "network.set_snapshots(pd.date_range(\"2024-01-01\", periods=24, freq=\"H\"))\n",
    "\n",
    "# Add buses with coordinates\n",
    "for i in range(3):\n",
    "    network.add(\n",
    "        \"Bus\",\n",
    "        f\"bus {i}\",\n",
    "        v_nom=20.0,\n",
    "        x=i,  # x-coordinate\n",
    "        y=i   # y-coordinate\n",
    "    )\n",
    "\n",
    "# Add components\n",
    "network.add(\"Carrier\", \"gas\")\n",
    "network.add(\"Carrier\", \"solar\")\n",
    "\n",
    "network.add(\n",
    "    \"Generator\",\n",
    "    \"gas_plant\",\n",
    "    bus=\"bus 0\",\n",
    "    p_nom=100,\n",
    "    carrier=\"gas\"\n",
    ")\n",
    "\n",
    "network.add(\n",
    "    \"Generator\",\n",
    "    \"solar\",\n",
    "    bus=\"bus 1\",\n",
    "    p_nom=50,\n",
    "    carrier=\"solar\"\n",
    ")\n",
    "\n",
    "network.add(\n",
    "    \"Load\",\n",
    "    \"load\",\n",
    "    bus=\"bus 2\",\n",
    "    p_set=50\n",
    ")\n",
    "\n",
    "for i in range(3):\n",
    "    network.add(\n",
    "        \"Line\",\n",
    "        f\"line_{i}\",\n",
    "        bus0=f\"bus {i}\",\n",
    "        bus1=f\"bus {(i + 1) % 3}\",\n",
    "        s_nom=100\n",
    "    )"
   ]
  },
  {
   "cell_type": "markdown",
   "metadata": {},
   "source": [
    "## Basic Network Plot\n",
    "\n",
    "Let's create a basic plot of the network:"
   ]
  },
  {
   "cell_type": "code",
   "execution_count": 2,
   "metadata": {},
   "outputs": [
    {
     "name": "stderr",
     "output_type": "stream",
     "text": [
      "d:\\PyPSA\\PyPSA\\.venv\\Lib\\site-packages\\cartopy\\mpl\\feature_artist.py:144: UserWarning: facecolor will have no effect as it has been defined as \"never\".\n",
      "  warnings.warn('facecolor will have no effect as it has been '\n"
     ]
    },
    {
     "data": {
      "image/png": "[encoded data removed]",
      "text/plain": [
       "<Figure size 640x480 with 1 Axes>"
      ]
     },
     "metadata": {},
     "output_type": "display_data"
    }
   ],
   "source": [
    "# Create a basic network plot\n",
    "network.plot()\n",
    "plt.title(\"Basic Network Plot\")\n",
    "plt.show()"
   ]
  },
  {
   "cell_type": "markdown",
   "metadata": {},
   "source": [
    "## Customized Network Plot\n",
    "\n",
    "We can customize the plot with different colors, sizes, and labels:"
   ]
  },
  {
   "cell_type": "code",
   "execution_count": 3,
   "metadata": {},
   "outputs": [
    {
     "name": "stderr",
     "output_type": "stream",
     "text": [
      "d:\\PyPSA\\PyPSA\\.venv\\Lib\\site-packages\\cartopy\\mpl\\feature_artist.py:144: UserWarning: facecolor will have no effect as it has been defined as \"never\".\n",
      "  warnings.warn('facecolor will have no effect as it has been '\n"
     ]
    },
    {
     "data": {
      "image/png": "[encoded data removed]",
      "text/plain": [
       "<Figure size 640x480 with 1 Axes>"
      ]
     },
     "metadata": {},
     "output_type": "display_data"
    }
   ],
   "source": [
    "# Create a customized network plot\n",
    "network.plot(\n",
    "    bus_sizes=1000,  # Size of bus markers\n",
    "    line_widths=2,   # Width of lines\n",
    "    bus_colors='lightblue',  # Color of buses\n",
    "    line_colors='gray',      # Color of lines\n",
    "    title='Customized Network Plot'\n",
    ")\n",
    "plt.show()"
   ]
  },
  {
   "cell_type": "markdown",
   "metadata": {},
   "source": [
    "## Plotting with Geographic Data\n",
    "\n",
    "PyPSA can also plot networks on geographic maps. Let's create a network with geographic coordinates:"
   ]
  },
  {
   "cell_type": "code",
   "execution_count": 4,
   "metadata": {},
   "outputs": [
    {
     "name": "stderr",
     "output_type": "stream",
     "text": [
      "C:\\Users\\User\\AppData\\Local\\Temp\\ipykernel_2308\\587617215.py:3: FutureWarning: 'H' is deprecated and will be removed in a future version, please use 'h' instead.\n",
      "  network_geo.set_snapshots(pd.date_range(\"2024-01-01\", periods=24, freq=\"H\"))\n",
      "d:\\PyPSA\\PyPSA\\.venv\\Lib\\site-packages\\cartopy\\mpl\\feature_artist.py:144: UserWarning: facecolor will have no effect as it has been defined as \"never\".\n",
      "  warnings.warn('facecolor will have no effect as it has been '\n"
     ]
    },
    {
     "data": {
      "image/png": "[encoded data removed]",
      "text/plain": [
       "<Figure size 640x480 with 1 Axes>"
      ]
     },
     "metadata": {},
     "output_type": "display_data"
    }
   ],
   "source": [
    "# Create a network with geographic coordinates\n",
    "network_geo = pypsa.Network()\n",
    "network_geo.set_snapshots(pd.date_range(\"2024-01-01\", periods=24, freq=\"H\"))\n",
    "\n",
    "# Add buses with geographic coordinates (example: cities in Germany)\n",
    "buses = {\n",
    "    \"Berlin\": (13.4050, 52.5200),\n",
    "    \"Hamburg\": (9.9937, 53.5511),\n",
    "    \"Munich\": (11.5820, 48.1351)\n",
    "}\n",
    "\n",
    "for city, (lon, lat) in buses.items():\n",
    "    network_geo.add(\n",
    "        \"Bus\",\n",
    "        city,\n",
    "        v_nom=20.0,\n",
    "        x=lon,\n",
    "        y=lat\n",
    "    )\n",
    "\n",
    "# Add components\n",
    "network_geo.add(\"Carrier\", \"gas\")\n",
    "network_geo.add(\"Carrier\", \"solar\")\n",
    "\n",
    "network_geo.add(\n",
    "    \"Generator\",\n",
    "    \"gas_plant\",\n",
    "    bus=\"Berlin\",\n",
    "    p_nom=100,\n",
    "    carrier=\"gas\"\n",
    ")\n",
    "\n",
    "network_geo.add(\n",
    "    \"Generator\",\n",
    "    \"solar\",\n",
    "    bus=\"Munich\",\n",
    "    p_nom=50,\n",
    "    carrier=\"solar\"\n",
    ")\n",
    "\n",
    "network_geo.add(\n",
    "    \"Load\",\n",
    "    \"load\",\n",
    "    bus=\"Hamburg\",\n",
    "    p_set=50\n",
    ")\n",
    "\n",
    "# Add lines between cities\n",
    "cities = list(buses.keys())\n",
    "for i in range(len(cities)):\n",
    "    network_geo.add(\n",
    "        \"Line\",\n",
    "        f\"line_{i}\",\n",
    "        bus0=cities[i],\n",
    "        bus1=cities[(i + 1) % len(cities)],\n",
    "        s_nom=100\n",
    "    )\n",
    "\n",
    "# Plot on a map\n",
    "network_geo.plot(\n",
    "    title='Network on Geographic Map',\n",
    "    color_geomap=True,  # Show geographic background\n",
    "    bus_sizes=1000,\n",
    "    line_widths=2\n",
    ")\n",
    "plt.show()"
   ]
  },
  {
   "cell_type": "markdown",
   "metadata": {},
   "source": [
    "## Plotting Time Series Data\n",
    "\n",
    "We can also visualize time series data from the network:"
   ]
  },
  {
   "cell_type": "code",
   "execution_count": 5,
   "metadata": {},
   "outputs": [
    {
     "name": "stderr",
     "output_type": "stream",
     "text": [
      "INFO:pypsa.pf:Performing non-linear load-flow on AC sub-network <pypsa.networks.SubNetwork object at 0x00000224C8DD12B0> for snapshots DatetimeIndex(['2024-01-01 00:00:00', '2024-01-01 01:00:00',\n",
      "               '2024-01-01 02:00:00', '2024-01-01 03:00:00',\n",
      "               '2024-01-01 04:00:00', '2024-01-01 05:00:00',\n",
      "               '2024-01-01 06:00:00', '2024-01-01 07:00:00',\n",
      "               '2024-01-01 08:00:00', '2024-01-01 09:00:00',\n",
      "               '2024-01-01 10:00:00', '2024-01-01 11:00:00',\n",
      "               '2024-01-01 12:00:00', '2024-01-01 13:00:00',\n",
      "               '2024-01-01 14:00:00', '2024-01-01 15:00:00',\n",
      "               '2024-01-01 16:00:00', '2024-01-01 17:00:00',\n",
      "               '2024-01-01 18:00:00', '2024-01-01 19:00:00',\n",
      "               '2024-01-01 20:00:00', '2024-01-01 21:00:00',\n",
      "               '2024-01-01 22:00:00', '2024-01-01 23:00:00'],\n",
      "              dtype='datetime64[ns]', name='snapshot', freq='h')\n",
      "WARNING:pypsa.pf:Power flow did not converge for [Timestamp('2024-01-01 00:00:00'), Timestamp('2024-01-01 01:00:00'), Timestamp('2024-01-01 02:00:00'), Timestamp('2024-01-01 03:00:00'), Timestamp('2024-01-01 04:00:00'), Timestamp('2024-01-01 05:00:00'), Timestamp('2024-01-01 06:00:00'), Timestamp('2024-01-01 07:00:00'), Timestamp('2024-01-01 08:00:00'), Timestamp('2024-01-01 09:00:00'), Timestamp('2024-01-01 10:00:00'), Timestamp('2024-01-01 11:00:00'), Timestamp('2024-01-01 12:00:00'), Timestamp('2024-01-01 13:00:00'), Timestamp('2024-01-01 14:00:00'), Timestamp('2024-01-01 15:00:00'), Timestamp('2024-01-01 16:00:00'), Timestamp('2024-01-01 17:00:00'), Timestamp('2024-01-01 18:00:00'), Timestamp('2024-01-01 19:00:00'), Timestamp('2024-01-01 20:00:00'), Timestamp('2024-01-01 21:00:00'), Timestamp('2024-01-01 22:00:00'), Timestamp('2024-01-01 23:00:00')].\n"
     ]
    },
    {
     "data": {
      "text/plain": [
       "<Figure size 1000x600 with 0 Axes>"
      ]
     },
     "metadata": {},
     "output_type": "display_data"
    },
    {
     "data": {
      "image/png": "[encoded data removed]",
      "text/plain": [
       "<Figure size 640x480 with 1 Axes>"
      ]
     },
     "metadata": {},
     "output_type": "display_data"
    }
   ],
   "source": [
    "# Solve power flow\n",
    "network.pf()\n",
    "\n",
    "# Plot power flows over time\n",
    "plt.figure(figsize=(10, 6))\n",
    "network.lines_t.p0.plot()\n",
    "plt.title('Power Flows on Lines Over Time')\n",
    "plt.xlabel('Time')\n",
    "plt.ylabel('Power Flow (MW)')\n",
    "plt.legend(title='Line')\n",
    "plt.grid(True)\n",
    "plt.show()"
   ]
  },
  {
   "cell_type": "markdown",
   "metadata": {},
   "source": [
    "## Plotting Component Statistics\n",
    "\n",
    "We can visualize statistics about network components:"
   ]
  },
  {
   "cell_type": "code",
   "execution_count": 6,
   "metadata": {},
   "outputs": [
    {
     "ename": "IndexError",
     "evalue": "index 0 is out of bounds for axis 0 with size 0",
     "output_type": "error",
     "traceback": [
      "\u001b[31m---------------------------------------------------------------------------\u001b[39m",
      "\u001b[31mIndexError\u001b[39m                                Traceback (most recent call last)",
      "\u001b[36mCell\u001b[39m\u001b[36m \u001b[39m\u001b[32mIn[6]\u001b[39m\u001b[32m, line 5\u001b[39m\n\u001b[32m      2\u001b[39m gen_stats = network.statistics.supply()\n\u001b[32m      4\u001b[39m plt.figure(figsize=(\u001b[32m8\u001b[39m, \u001b[32m6\u001b[39m))\n\u001b[32m----> \u001b[39m\u001b[32m5\u001b[39m \u001b[43mgen_stats\u001b[49m\u001b[43m.\u001b[49m\u001b[43mplot\u001b[49m\u001b[43m(\u001b[49m\u001b[43mkind\u001b[49m\u001b[43m=\u001b[49m\u001b[33;43m'\u001b[39;49m\u001b[33;43mbar\u001b[39;49m\u001b[33;43m'\u001b[39;49m\u001b[43m)\u001b[49m\n\u001b[32m      6\u001b[39m plt.title(\u001b[33m'\u001b[39m\u001b[33mGenerator Statistics\u001b[39m\u001b[33m'\u001b[39m)\n\u001b[32m      7\u001b[39m plt.xlabel(\u001b[33m'\u001b[39m\u001b[33mGenerator\u001b[39m\u001b[33m'\u001b[39m)\n",
      "\u001b[36mFile \u001b[39m\u001b[32md:\\PyPSA\\PyPSA\\.venv\\Lib\\site-packages\\pandas\\plotting\\_core.py:1030\u001b[39m, in \u001b[36mPlotAccessor.__call__\u001b[39m\u001b[34m(self, *args, **kwargs)\u001b[39m\n\u001b[32m   1027\u001b[39m             label_name = label_kw \u001b[38;5;129;01mor\u001b[39;00m data.columns\n\u001b[32m   1028\u001b[39m             data.columns = label_name\n\u001b[32m-> \u001b[39m\u001b[32m1030\u001b[39m \u001b[38;5;28;01mreturn\u001b[39;00m \u001b[43mplot_backend\u001b[49m\u001b[43m.\u001b[49m\u001b[43mplot\u001b[49m\u001b[43m(\u001b[49m\u001b[43mdata\u001b[49m\u001b[43m,\u001b[49m\u001b[43m \u001b[49m\u001b[43mkind\u001b[49m\u001b[43m=\u001b[49m\u001b[43mkind\u001b[49m\u001b[43m,\u001b[49m\u001b[43m \u001b[49m\u001b[43m*\u001b[49m\u001b[43m*\u001b[49m\u001b[43mkwargs\u001b[49m\u001b[43m)\u001b[49m\n",
      "\u001b[36mFile \u001b[39m\u001b[32md:\\PyPSA\\PyPSA\\.venv\\Lib\\site-packages\\pandas\\plotting\\_matplotlib\\__init__.py:71\u001b[39m, in \u001b[36mplot\u001b[39m\u001b[34m(data, kind, **kwargs)\u001b[39m\n\u001b[32m     69\u001b[39m         kwargs[\u001b[33m\"\u001b[39m\u001b[33max\u001b[39m\u001b[33m\"\u001b[39m] = \u001b[38;5;28mgetattr\u001b[39m(ax, \u001b[33m\"\u001b[39m\u001b[33mleft_ax\u001b[39m\u001b[33m\"\u001b[39m, ax)\n\u001b[32m     70\u001b[39m plot_obj = PLOT_CLASSES[kind](data, **kwargs)\n\u001b[32m---> \u001b[39m\u001b[32m71\u001b[39m \u001b[43mplot_obj\u001b[49m\u001b[43m.\u001b[49m\u001b[43mgenerate\u001b[49m\u001b[43m(\u001b[49m\u001b[43m)\u001b[49m\n\u001b[32m     72\u001b[39m plot_obj.draw()\n\u001b[32m     73\u001b[39m \u001b[38;5;28;01mreturn\u001b[39;00m plot_obj.result\n",
      "\u001b[36mFile \u001b[39m\u001b[32md:\\PyPSA\\PyPSA\\.venv\\Lib\\site-packages\\pandas\\plotting\\_matplotlib\\core.py:508\u001b[39m, in \u001b[36mMPLPlot.generate\u001b[39m\u001b[34m(self)\u001b[39m\n\u001b[32m    506\u001b[39m \u001b[38;5;28;01mfor\u001b[39;00m ax \u001b[38;5;129;01min\u001b[39;00m \u001b[38;5;28mself\u001b[39m.axes:\n\u001b[32m    507\u001b[39m     \u001b[38;5;28mself\u001b[39m._post_plot_logic_common(ax)\n\u001b[32m--> \u001b[39m\u001b[32m508\u001b[39m     \u001b[38;5;28;43mself\u001b[39;49m\u001b[43m.\u001b[49m\u001b[43m_post_plot_logic\u001b[49m\u001b[43m(\u001b[49m\u001b[43max\u001b[49m\u001b[43m,\u001b[49m\u001b[43m \u001b[49m\u001b[38;5;28;43mself\u001b[39;49m\u001b[43m.\u001b[49m\u001b[43mdata\u001b[49m\u001b[43m)\u001b[49m\n",
      "\u001b[36mFile \u001b[39m\u001b[32md:\\PyPSA\\PyPSA\\.venv\\Lib\\site-packages\\pandas\\plotting\\_matplotlib\\core.py:1972\u001b[39m, in \u001b[36mBarPlot._post_plot_logic\u001b[39m\u001b[34m(self, ax, data)\u001b[39m\n\u001b[32m   1969\u001b[39m \u001b[38;5;28;01melse\u001b[39;00m:\n\u001b[32m   1970\u001b[39m     str_index = [pprint_thing(key) \u001b[38;5;28;01mfor\u001b[39;00m key \u001b[38;5;129;01min\u001b[39;00m \u001b[38;5;28mrange\u001b[39m(data.shape[\u001b[32m0\u001b[39m])]\n\u001b[32m-> \u001b[39m\u001b[32m1972\u001b[39m s_edge = \u001b[38;5;28;43mself\u001b[39;49m\u001b[43m.\u001b[49m\u001b[43max_pos\u001b[49m\u001b[43m[\u001b[49m\u001b[32;43m0\u001b[39;49m\u001b[43m]\u001b[49m - \u001b[32m0.25\u001b[39m + \u001b[38;5;28mself\u001b[39m.lim_offset\n\u001b[32m   1973\u001b[39m e_edge = \u001b[38;5;28mself\u001b[39m.ax_pos[-\u001b[32m1\u001b[39m] + \u001b[32m0.25\u001b[39m + \u001b[38;5;28mself\u001b[39m.bar_width + \u001b[38;5;28mself\u001b[39m.lim_offset\n\u001b[32m   1975\u001b[39m \u001b[38;5;28mself\u001b[39m._decorate_ticks(ax, \u001b[38;5;28mself\u001b[39m._get_index_name(), str_index, s_edge, e_edge)\n",
      "\u001b[31mIndexError\u001b[39m: index 0 is out of bounds for axis 0 with size 0"
     ]
    },
    {
     "data": {
      "image/png": "[encoded data removed]",
      "text/plain": [
       "<Figure size 800x600 with 1 Axes>"
      ]
     },
     "metadata": {},
     "output_type": "display_data"
    }
   ],
   "source": [
    "# Calculate and plot generator statistics\n",
    "gen_stats = network.statistics.supply()\n",
    "\n",
    "plt.figure(figsize=(8, 6))\n",
    "gen_stats.plot(kind='bar')\n",
    "plt.title('Generator Statistics')\n",
    "plt.xlabel('Generator')\n",
    "plt.ylabel('Value')\n",
    "plt.xticks(rotation=45)\n",
    "plt.tight_layout()\n",
    "plt.show()"
   ]
  },
  {
   "cell_type": "markdown",
   "metadata": {},
   "source": [
    "## Plotting Options\n",
    "\n",
    "Key plotting options in PyPSA:\n",
    "\n",
    "1. **Basic Options**\n",
    "   - `bus_sizes`: Size of bus markers\n",
    "   - `line_widths`: Width of transmission lines\n",
    "   - `bus_colors`: Color of buses\n",
    "   - `line_colors`: Color of lines\n",
    "   - `title`: Plot title\n",
    "\n",
    "2. **Geographic Options**\n",
    "   - `color_geomap`: Show geographic background\n",
    "   - `geomap`: Specify map style\n",
    "   - `boundaries`: Set map boundaries\n",
    "\n",
    "3. **Component Options**\n",
    "   - `show_generators`: Show generator locations\n",
    "   - `show_loads`: Show load locations\n",
    "   - `show_storage`: Show storage locations\n",
    "\n",
    "## Next Steps\n",
    "\n",
    "In the next tutorial, we'll learn how to perform network optimization and analyze the results."
   ]
  }
 ],
 "metadata": {
  "kernelspec": {
   "display_name": ".venv",
   "language": "python",
   "name": "python3"
  },
  "language_info": {
   "codemirror_mode": {
    "name": "ipython",
    "version": 3
   },
   "file_extension": ".py",
   "mimetype": "text/x-python",
   "name": "python",
   "nbconvert_exporter": "python",
   "pygments_lexer": "ipython3",
   "version": "3.13.1"
  }
 },
 "nbformat": 4,
 "nbformat_minor": 2
}
