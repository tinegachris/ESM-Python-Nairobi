{
 "cells": [
  {
   "cell_type": "markdown",
   "metadata": {},
   "source": [
    "# Investment Planning in PyPSA\n",
    "\n",
    "This tutorial covers how to perform investment planning in PyPSA, including multi-period optimization, investment costs, and capacity expansion planning.\n",
    "\n",
    "## Multi-Period Investment Planning\n",
    "\n",
    "Let's create a network with multiple investment periods to plan capacity expansion over time:"
   ]
  },
  {
   "cell_type": "code",
   "execution_count": 31,
   "metadata": {},
   "outputs": [
    {
     "name": "stdout",
     "output_type": "stream",
     "text": [
      "Network snapshots:\n",
      "MultiIndex([(2020, '2020-01-01'),\n",
      "            (2020, '2020-01-08'),\n",
      "            (2020, '2020-01-15'),\n",
      "            (2020, '2020-01-22'),\n",
      "            (2020, '2020-01-29'),\n",
      "            (2020, '2020-02-05'),\n",
      "            (2020, '2020-02-12'),\n",
      "            (2020, '2020-02-19'),\n",
      "            (2020, '2020-02-26'),\n",
      "            (2020, '2020-03-04'),\n",
      "            ...\n",
      "            (2050, '2050-10-22'),\n",
      "            (2050, '2050-10-29'),\n",
      "            (2050, '2050-11-05'),\n",
      "            (2050, '2050-11-12'),\n",
      "            (2050, '2050-11-19'),\n",
      "            (2050, '2050-11-26'),\n",
      "            (2050, '2050-12-03'),\n",
      "            (2050, '2050-12-10'),\n",
      "            (2050, '2050-12-17'),\n",
      "            (2050, '2050-12-24')],\n",
      "           name='snapshot', length=208)\n",
      "\n",
      "Investment periods:\n",
      "Index([2020, 2030, 2040, 2050], dtype='int32', name='period')\n"
     ]
    },
    {
     "name": "stderr",
     "output_type": "stream",
     "text": [
      "C:\\Users\\User\\AppData\\Local\\Temp\\ipykernel_20888\\2483654109.py:19: FutureWarning:\n",
      "\n",
      "'H' is deprecated and will be removed in a future version, please use 'h' instead.\n",
      "\n"
     ]
    }
   ],
   "source": [
    "import pypsa\n",
    "import pandas as pd\n",
    "import numpy as np\n",
    "import matplotlib.pyplot as plt\n",
    "\n",
    "# Create network\n",
    "network = pypsa.Network()\n",
    "\n",
    "# Define investment periods\n",
    "years = [2020, 2030, 2040, 2050]\n",
    "# Simplify temporal resolution for the tutorial: Weekly average (168 hours)\n",
    "freq = \"168\"  # Resolution: one snapshot per week\n",
    "\n",
    "# Create snapshots for each period\n",
    "snapshots = pd.DatetimeIndex([])\n",
    "for year in years:\n",
    "    # Calculate integer number of periods per year (weeks)\n",
    "    num_periods = int(8760 / int(freq)) # Should be 52\n",
    "    period = pd.date_range(\n",
    "        start=f\"{year}-01-01 00:00\",\n",
    "        freq=f\"{freq}H\", # Weekly frequency\n",
    "        periods=num_periods\n",
    "    )\n",
    "    snapshots = snapshots.append(period)\n",
    "\n",
    "# Set snapshots and investment periods\n",
    "network.snapshots = pd.MultiIndex.from_arrays([snapshots.year, snapshots])\n",
    "network.investment_periods = years\n",
    "\n",
    "print(\"Network snapshots:\")\n",
    "print(network.snapshots)\n",
    "print(\"\\nInvestment periods:\")\n",
    "print(network.investment_periods)"
   ]
  },
  {
   "cell_type": "markdown",
   "metadata": {},
   "source": [
    "## Setting Up Investment Weightings\n",
    "\n",
    "We need to set up investment period weightings to account for the time value of money:"
   ]
  },
  {
   "cell_type": "code",
   "execution_count": 32,
   "metadata": {},
   "outputs": [
    {
     "name": "stdout",
     "output_type": "stream",
     "text": [
      "Investment period weightings:\n",
      "        objective  years\n",
      "period                  \n",
      "2020     9.566018     10\n",
      "2030     8.659991     10\n",
      "2040     7.839777     10\n",
      "2050     7.097248     10\n"
     ]
    }
   ],
   "source": [
    "# Set investment period weightings\n",
    "r = 0.01  # Social discount rate\n",
    "T = 0\n",
    "\n",
    "# First, set the years for each investment period\n",
    "# Assuming 10-year periods between each investment year\n",
    "network.investment_period_weightings[\"years\"] = {\n",
    "    2020: 10,  # 2020-2030\n",
    "    2030: 10,  # 2030-2040\n",
    "    2040: 10,  # 2040-2050\n",
    "    2050: 10   # 2050-2060\n",
    "}\n",
    "\n",
    "# Calculate objective function weightings based on discount rate\n",
    "for period, nyears in network.investment_period_weightings.years.items():\n",
    "    discounts = [(1 / (1 + r) ** t) for t in range(T, T + int(nyears))]\n",
    "    network.investment_period_weightings.at[period, \"objective\"] = sum(discounts)\n",
    "    T += int(nyears)\n",
    "\n",
    "print(\"Investment period weightings:\")\n",
    "print(network.investment_period_weightings)"
   ]
  },
  {
   "cell_type": "markdown",
   "metadata": {},
   "source": [
    "## Adding Network Components\n",
    "\n",
    "Let's add components with investment options:"
   ]
  },
  {
   "cell_type": "code",
   "execution_count": 33,
   "metadata": {},
   "outputs": [],
   "source": [
    "def repeat_daily_profile(snapshots, daily_values):\n",
    "    \"\"\"Repeats a daily profile (list of 24 values) across all snapshots.\"\"\"\n",
    "    profile_list = []\n",
    "    num_snapshots = len(snapshots)\n",
    "    if len(daily_values) != 24:\n",
    "        # Adapt function if base profile is not daily, for now assume daily base\n",
    "        raise ValueError(\"daily_values must have length 24 for this implementation\")\n",
    "    \n",
    "    # Calculate how many full days and remaining hours are in snapshots\n",
    "    num_days = num_snapshots // 24\n",
    "    remaining_hours = num_snapshots % 24\n",
    "    \n",
    "    # Repeat the daily profile for the full days\n",
    "    profile_list = daily_values * num_days\n",
    "    \n",
    "    # Add the remaining hours\n",
    "    if remaining_hours > 0:\n",
    "        profile_list.extend(daily_values[:remaining_hours])\n",
    "    \n",
    "    # Check if length matches (important due to simplified weekly averaging)\n",
    "    # This simple repeat might not be fully representative for weekly averages,\n",
    "    # but serves for demonstrating the structure.\n",
    "    if len(profile_list) != num_snapshots:\n",
    "        # Adjust length if needed, e.g., by repeating last value or truncating\n",
    "        # For simplicity, we might truncate or pad, but check logic carefully.\n",
    "        # Let's pad with the first value if too short, or truncate if too long.\n",
    "        if len(profile_list) < num_snapshots:\n",
    "            profile_list.extend([daily_values[0]] * (num_snapshots - len(profile_list)))\n",
    "        else:\n",
    "            profile_list = profile_list[:num_snapshots]\n",
    "            \n",
    "    return pd.Series(profile_list, index=snapshots)"
   ]
  },
  {
   "cell_type": "code",
   "execution_count": 34,
   "metadata": {},
   "outputs": [],
   "source": [
    "# Add buses\n",
    "for i in range(3):\n",
    "    network.add(\"Bus\", f\"bus {i}\")\n",
    "\n",
    "# Add carriers\n",
    "network.add(\"Carrier\", \"gas\", co2_emissions=0.2)\n",
    "network.add(\"Carrier\", \"solar\")\n",
    "network.add(\"Carrier\", \"wind\")\n",
    "\n",
    "# Add generators with investment options\n",
    "network.add(\n",
    "    \"Generator\",\n",
    "    \"gas_plant\",\n",
    "    bus=\"bus 0\",\n",
    "    p_nom=0,  # Start with zero capacity\n",
    "    p_nom_extendable=True,  # Allow capacity expansion\n",
    "    p_nom_min=0,  # Minimum capacity\n",
    "    p_nom_max=1000,  # Maximum capacity\n",
    "    marginal_cost=50, # Illustrative EUR/MWh\n",
    "    capital_cost=1000, # Illustrative EUR/MW\n",
    "    carrier=\"gas\",\n",
    "    efficiency=0.4\n",
    ")\n",
    "\n",
    "# Create a solar profile for each snapshot in the network\n",
    "base_solar_profile = [0.0, 0.0, 0.0, 0.0, 0.1, 0.3, 0.5, 0.7, 0.8, 0.9, 0.9, 0.8,\n",
    "                      0.7, 0.6, 0.5, 0.4, 0.3, 0.2, 0.1, 0.0, 0.0, 0.0, 0.0, 0.0]\n",
    "\n",
    "# Use helper function to create the full profile\n",
    "solar_profile = repeat_daily_profile(network.snapshots, base_solar_profile)\n",
    "\n",
    "network.add(\n",
    "    \"Generator\",\n",
    "    \"solar\",\n",
    "    bus=\"bus 1\",\n",
    "    p_nom=0,\n",
    "    p_nom_extendable=True,\n",
    "    p_nom_min=0,\n",
    "    p_nom_max=1000,\n",
    "    p_max_pu=solar_profile,\n",
    "    marginal_cost=0, # Illustrative EUR/MWh\n",
    "    capital_cost=800, # Illustrative EUR/MW\n",
    "    carrier=\"solar\"\n",
    ")\n",
    "\n",
    "# Add load with growth\n",
    "base_load_profile = [0.6, 0.5, 0.4, 0.4, 0.5, 0.7, 0.8, 0.9, 0.9, 0.8, 0.7, 0.7,\n",
    "                     0.7, 0.7, 0.7, 0.7, 0.8, 0.9, 0.9, 0.8, 0.7, 0.6, 0.5, 0.5]\n",
    "\n",
    "# Use helper function to create the full profile\n",
    "load_profile = repeat_daily_profile(network.snapshots, base_load_profile)\n",
    "\n",
    "# Apply growth factor based on the year (level 0 of MultiIndex)\n",
    "growth_factor = (1 + 0.02 * (network.snapshots.get_level_values(0) - 2020))\n",
    "\n",
    "network.add(\n",
    "    \"Load\",\n",
    "    \"load\",\n",
    "    bus=\"bus 2\",\n",
    "    p_set=50 * load_profile * growth_factor\n",
    ")\n",
    "\n",
    "# Add transmission lines with investment options\n",
    "for i in range(3):\n",
    "    network.add(\n",
    "        \"Line\",\n",
    "        f\"line_{i}\",\n",
    "        bus0=f\"bus {i}\",\n",
    "        bus1=f\"bus {(i + 1) % 3}\",\n",
    "        s_nom=0,  # Start with zero capacity\n",
    "        s_nom_extendable=True,  # Allow capacity expansion\n",
    "        s_nom_min=0,  # Minimum capacity\n",
    "        s_nom_max=1000,  # Maximum capacity\n",
    "        capital_cost=1000, # Illustrative EUR/MVA\n",
    "        x=0.1,\n",
    "        r=0.01\n",
    "    )"
   ]
  },
  {
   "cell_type": "markdown",
   "metadata": {},
   "source": [
    "## Solving the Investment Planning Problem\n",
    "\n",
    "Now let's solve the multi-period investment planning problem:"
   ]
  },
  {
   "cell_type": "code",
   "execution_count": 35,
   "metadata": {},
   "outputs": [
    {
     "name": "stdout",
     "output_type": "stream",
     "text": [
      "Attempting to solve optimization...\n"
     ]
    },
    {
     "name": "stderr",
     "output_type": "stream",
     "text": [
      "WARNING:pypsa.consistency:The following buses have carriers which are not defined:\n",
      "Index(['bus 0', 'bus 1', 'bus 2'], dtype='object', name='Bus')\n",
      "WARNING:pypsa.consistency:The following lines have carriers which are not defined:\n",
      "Index(['line_0', 'line_1', 'line_2'], dtype='object', name='Line')\n",
      "INFO:linopy.model: Solve problem using Highs solver\n",
      "INFO:linopy.io: Writing time: 0.07s\n",
      "INFO:linopy.constants: Optimization successful: \n",
      "Status: ok\n",
      "Termination condition: optimal\n",
      "Solution: 1045 primals, 2922 duals\n",
      "Objective: 4.57e+05\n",
      "Solver model: available\n",
      "Solver message: optimal\n",
      "\n",
      "INFO:pypsa.optimization.optimize:The shadow-prices of the constraints Generator-ext-p-lower, Generator-ext-p-upper, Line-ext-s-lower, Line-ext-s-upper, Kirchhoff-Voltage-Law were not assigned to the network.\n"
     ]
    },
    {
     "name": "stdout",
     "output_type": "stream",
     "text": [
      "Solver Status: ok, Termination Condition: optimal\n",
      "Optimization successful!\n",
      "\n",
      "Optimal Generator Capacities (MW):\n",
      "Generator\n",
      "gas_plant    64.0\n",
      "solar        98.0\n",
      "Name: p_nom_opt, dtype: float64\n",
      "\n",
      "Optimal Line Capacities (MVA):\n",
      "Line\n",
      "line_0    21.333333\n",
      "line_1    42.000000\n",
      "line_2    44.733333\n",
      "Name: s_nom_opt, dtype: float64\n"
     ]
    }
   ],
   "source": [
    "# Solve the investment planning problem\n",
    "print(\"Attempting to solve optimization...\")\n",
    "try:\n",
    "    status, condition = network.optimize()\n",
    "\n",
    "    # Check solver status\n",
    "    print(f\"Solver Status: {status}, Termination Condition: {condition}\")\n",
    "\n",
    "    if status == \"ok\" and condition == \"optimal\":\n",
    "        print(\"Optimization successful!\")\n",
    "        # Print optimal capacities for each investment period\n",
    "        print(\"\\nOptimal Generator Capacities (MW):\")\n",
    "        print(network.generators.p_nom_opt)\n",
    "\n",
    "        print(\"\\nOptimal Line Capacities (MVA):\")\n",
    "        print(network.lines.s_nom_opt)\n",
    "    else:\n",
    "        print(\"Optimization did not finish successfully or was not optimal.\")\n",
    "        print(\"Possible issues: Infeasible model (check constraints, load, generation limits), solver setup, numerical instability.\")\n",
    "\n",
    "except Exception as e:\n",
    "    print(f\"An error occurred during optimization: {e}\")\n",
    "    print(\"Please ensure a suitable solver is installed and accessible to PyPSA.\")"
   ]
  },
  {
   "cell_type": "markdown",
   "metadata": {},
   "source": [
    "## Analyzing Investment Results\n",
    "\n",
    "Let's analyze the investment planning results:"
   ]
  },
  {
   "cell_type": "code",
   "execution_count": 36,
   "metadata": {},
   "outputs": [
    {
     "data": {
      "image/png": "[encoded data removed]",
      "text/plain": [
       "<Figure size 1000x600 with 1 Axes>"
      ]
     },
     "metadata": {},
     "output_type": "display_data"
    },
    {
     "data": {
      "image/png": "[encoded data removed]",
      "text/plain": [
       "<Figure size 1000x600 with 1 Axes>"
      ]
     },
     "metadata": {},
     "output_type": "display_data"
    },
    {
     "name": "stdout",
     "output_type": "stream",
     "text": [
      "\n",
      "Total System Costs (Objective Value):\n",
      "457286.67\n"
     ]
    }
   ],
   "source": [
    "# Analyze results only if optimization was successful\n",
    "if status == \"ok\" and condition == \"optimal\":\n",
    "    # Plot capacity expansion over time\n",
    "    # Note: p_nom_opt shows the TOTAL optimal capacity at the end of the planning horizon (e.g., 2050)\n",
    "    plt.figure(figsize=(10, 6))\n",
    "    network.generators.p_nom_opt.plot(kind='bar')\n",
    "    plt.title('Final Optimal Generator Capacities by End of Horizon')\n",
    "    plt.xlabel('Generator')\n",
    "    plt.ylabel('Capacity (MW)')\n",
    "    plt.xticks(rotation=45)\n",
    "    plt.tight_layout()\n",
    "    plt.show()\n",
    "\n",
    "# Plot line capacity expansion\n",
    "    # Note: s_nom_opt shows the TOTAL optimal capacity at the end of the planning horizon\n",
    "    plt.figure(figsize=(10, 6))\n",
    "    network.lines.s_nom_opt.plot(kind='bar')\n",
    "    plt.title('Final Optimal Line Capacities by End of Horizon')\n",
    "    plt.xlabel('Line')\n",
    "    plt.ylabel('Capacity (MVA)')\n",
    "    plt.xticks(rotation=45)\n",
    "    plt.tight_layout()\n",
    "    plt.show()\n",
    "\n",
    "# Print system costs\n",
    "    print(\"\\nTotal System Costs (Objective Value):\")\n",
    "    # This includes annualized investment costs and total operational costs over the horizon\n",
    "    print(f\"{network.objective:.2f}\")\n",
    "else:\n",
    "    print(\"Skipping results analysis due to non-optimal solver status.\")"
   ]
  },
  {
   "cell_type": "markdown",
   "metadata": {},
   "source": [
    "## Key Investment Planning Concepts\n",
    "\n",
    "1. **Investment Periods**\n",
    "   - Define time periods for investment decisions\n",
    "   - Can have different constraints for each period\n",
    "   - Account for time value of money through discounting\n",
    "\n",
    "2. **Capacity Expansion**\n",
    "   - Components can be made extendable\n",
    "   - Set minimum and maximum capacity limits\n",
    "   - Define capital costs for investment\n",
    "\n",
    "3. **Global Constraints**\n",
    "   - Can be period-specific\n",
    "   - Examples: CO2 limits, renewable share targets\n",
    "   - Can guide investment decisions\n",
    "\n",
    "4. **Cost Components**\n",
    "   - Capital costs for investment\n",
    "   - Operational costs (marginal costs)\n",
    "   - Discounted over time\n",
    "\n",
    "## Next Steps\n",
    "\n",
    "In the next tutorial, we'll explore storage systems and demand-side management options."
   ]
  }
 ],
 "metadata": {
  "kernelspec": {
   "display_name": "venv",
   "language": "python",
   "name": "python3"
  },
  "language_info": {
   "codemirror_mode": {
    "name": "ipython",
    "version": 3
   },
   "file_extension": ".py",
   "mimetype": "text/x-python",
   "name": "python",
   "nbconvert_exporter": "python",
   "pygments_lexer": "ipython3",
   "version": "3.12.9"
  }
 },
 "nbformat": 4,
 "nbformat_minor": 2
}
