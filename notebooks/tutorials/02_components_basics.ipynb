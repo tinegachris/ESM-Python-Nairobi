{
 "cells": [
  {
   "cell_type": "markdown",
   "metadata": {},
   "source": [
    "# PyPSA Components Basics\n",
    "\n",
    "This tutorial covers the basic components available in PyPSA and how to configure them. We'll explore generators, loads, lines, and other essential components.\n",
    "\n",
    "## Basic Components Overview\n",
    "\n",
    "PyPSA supports several types of components:\n",
    "\n",
    "1. **Buses**: Network nodes\n",
    "2. **Generators**: Power plants and other generation units\n",
    "3. **Loads**: Electricity demand\n",
    "4. **Lines**: AC transmission lines\n",
    "5. **Links**: DC transmission lines or other connections\n",
    "6. **Stores**: Storage units\n",
    "7. **Carriers**: Energy carriers (e.g., electricity, gas, heat)\n",
    "\n",
    "Let's create a network and explore each component type:"
   ]
  },
  {
   "cell_type": "code",
   "execution_count": 1,
   "metadata": {},
   "outputs": [
    {
     "name": "stderr",
     "output_type": "stream",
     "text": [
      "C:\\Users\\User\\AppData\\Local\\Temp\\ipykernel_4604\\3734364103.py:7: FutureWarning: 'H' is deprecated and will be removed in a future version, please use 'h' instead.\n",
      "  network.set_snapshots(pd.date_range(\"2024-01-01\", periods=24, freq=\"H\"))\n"
     ]
    },
    {
     "data": {
      "text/plain": [
       "Index(['wind'], dtype='object')"
      ]
     },
     "execution_count": 1,
     "metadata": {},
     "output_type": "execute_result"
    }
   ],
   "source": [
    "import pypsa\n",
    "import pandas as pd\n",
    "import numpy as np\n",
    "\n",
    "# Create network with time series\n",
    "network = pypsa.Network()\n",
    "network.set_snapshots(pd.date_range(\"2024-01-01\", periods=24, freq=\"H\"))\n",
    "\n",
    "# Add buses\n",
    "for i in range(3):\n",
    "    network.add(\"Bus\", f\"bus {i}\", v_nom=20.0)\n",
    "\n",
    "# Add carriers\n",
    "network.add(\"Carrier\", \"gas\", co2_emissions=0.2)\n",
    "network.add(\"Carrier\", \"solar\")\n",
    "network.add(\"Carrier\", \"wind\")"
   ]
  },
  {
   "cell_type": "markdown",
   "metadata": {},
   "source": [
    "## Generators\n",
    "\n",
    "Generators represent power plants or other generation units. They can be configured with various parameters:"
   ]
  },
  {
   "cell_type": "code",
   "execution_count": 2,
   "metadata": {},
   "outputs": [
    {
     "name": "stdout",
     "output_type": "stream",
     "text": [
      "Generators in the network:\n",
      "             bus control type  p_nom  p_nom_mod  p_nom_extendable  p_nom_min  \\\n",
      "Generator                                                                      \n",
      "gas_plant  bus 0      PQ       100.0        0.0              True        0.0   \n",
      "solar      bus 1      PQ        50.0        0.0              True        0.0   \n",
      "\n",
      "           p_nom_max  p_min_pu  p_max_pu  ...  min_up_time  min_down_time  \\\n",
      "Generator                                 ...                               \n",
      "gas_plant        inf       0.0       1.0  ...            0              0   \n",
      "solar            inf       0.0       1.0  ...            0              0   \n",
      "\n",
      "           up_time_before  down_time_before  ramp_limit_up ramp_limit_down  \\\n",
      "Generator                                                                    \n",
      "gas_plant               1                 0            NaN             NaN   \n",
      "solar                   1                 0            NaN             NaN   \n",
      "\n",
      "           ramp_limit_start_up  ramp_limit_shut_down  weight  p_nom_opt  \n",
      "Generator                                                                \n",
      "gas_plant                  1.0                   1.0     1.0        0.0  \n",
      "solar                      1.0                   1.0     1.0        0.0  \n",
      "\n",
      "[2 rows x 37 columns]\n"
     ]
    }
   ],
   "source": [
    "# Add a gas generator\n",
    "network.add(\n",
    "    \"Generator\",\n",
    "    \"gas_plant\",\n",
    "    bus=\"bus 0\",\n",
    "    p_nom=100,  # Nominal power capacity\n",
    "    p_nom_extendable=True,  # Allow capacity expansion\n",
    "    marginal_cost=50,  # Operating cost per MWh\n",
    "    capital_cost=1000,  # Investment cost per MW\n",
    "    carrier=\"gas\",\n",
    "    efficiency=0.4  # Conversion efficiency\n",
    ")\n",
    "\n",
    "# Add a solar generator with variable output\n",
    "solar_profile = pd.Series(\n",
    "    [0.0, 0.0, 0.0, 0.0, 0.1, 0.3, 0.5, 0.7, 0.8, 0.9, 0.9, 0.8,\n",
    "     0.7, 0.6, 0.5, 0.4, 0.3, 0.2, 0.1, 0.0, 0.0, 0.0, 0.0, 0.0],\n",
    "    index=network.snapshots\n",
    ")\n",
    "\n",
    "network.add(\n",
    "    \"Generator\",\n",
    "    \"solar\",\n",
    "    bus=\"bus 1\",\n",
    "    p_nom=50,\n",
    "    p_nom_extendable=True,\n",
    "    p_max_pu=solar_profile,  # Maximum power output as fraction of p_nom\n",
    "    marginal_cost=0,  # Zero marginal cost for renewables\n",
    "    capital_cost=800,\n",
    "    carrier=\"solar\"\n",
    ")\n",
    "\n",
    "print(\"Generators in the network:\")\n",
    "print(network.generators)"
   ]
  },
  {
   "cell_type": "markdown",
   "metadata": {},
   "source": [
    "## Loads\n",
    "\n",
    "Loads represent electricity demand. They can have fixed or time-varying demand profiles:"
   ]
  },
  {
   "cell_type": "code",
   "execution_count": 3,
   "metadata": {},
   "outputs": [
    {
     "name": "stdout",
     "output_type": "stream",
     "text": [
      "Loads in the network:\n",
      "          bus carrier type  p_set  q_set  sign  active\n",
      "Load                                                  \n",
      "load_1  bus 1                 0.0    0.0  -1.0    True\n",
      "load_2  bus 2                30.0    0.0  -1.0    True\n"
     ]
    }
   ],
   "source": [
    "# Create a load profile\n",
    "load_profile = pd.Series(\n",
    "    [0.6, 0.5, 0.4, 0.4, 0.5, 0.7, 0.8, 0.9, 0.9, 0.8, 0.7, 0.7,\n",
    "     0.7, 0.7, 0.7, 0.7, 0.8, 0.9, 0.9, 0.8, 0.7, 0.6, 0.5, 0.5],\n",
    "    index=network.snapshots\n",
    ")\n",
    "\n",
    "# Add loads with different profiles\n",
    "network.add(\n",
    "    \"Load\",\n",
    "    \"load_1\",\n",
    "    bus=\"bus 1\",\n",
    "    p_set=50 * load_profile  # Time-varying demand\n",
    ")\n",
    "\n",
    "network.add(\n",
    "    \"Load\",\n",
    "    \"load_2\",\n",
    "    bus=\"bus 2\",\n",
    "    p_set=30  # Fixed demand\n",
    ")\n",
    "\n",
    "print(\"Loads in the network:\")\n",
    "print(network.loads)"
   ]
  },
  {
   "cell_type": "markdown",
   "metadata": {},
   "source": [
    "## Lines and Links\n",
    "\n",
    "Lines represent AC transmission connections, while Links can represent DC lines or other connections:"
   ]
  },
  {
   "cell_type": "code",
   "execution_count": 4,
   "metadata": {},
   "outputs": [
    {
     "name": "stdout",
     "output_type": "stream",
     "text": [
      "Lines in the network:\n",
      "         bus0   bus1 type    x     r    g    b  s_nom  s_nom_mod  \\\n",
      "Line                                                               \n",
      "line_0  bus 0  bus 1       0.1  0.01  0.0  0.0  100.0        0.0   \n",
      "line_1  bus 1  bus 2       0.1  0.01  0.0  0.0  100.0        0.0   \n",
      "line_2  bus 2  bus 0       0.1  0.01  0.0  0.0  100.0        0.0   \n",
      "\n",
      "        s_nom_extendable  ...  v_ang_min  v_ang_max  sub_network  x_pu  r_pu  \\\n",
      "Line                      ...                                                  \n",
      "line_0              True  ...       -inf        inf                0.0   0.0   \n",
      "line_1              True  ...       -inf        inf                0.0   0.0   \n",
      "line_2              True  ...       -inf        inf                0.0   0.0   \n",
      "\n",
      "        g_pu  b_pu  x_pu_eff r_pu_eff  s_nom_opt  \n",
      "Line                                              \n",
      "line_0   0.0   0.0       0.0      0.0        0.0  \n",
      "line_1   0.0   0.0       0.0      0.0        0.0  \n",
      "line_2   0.0   0.0       0.0      0.0        0.0  \n",
      "\n",
      "[3 rows x 31 columns]\n",
      "\n",
      "Links in the network:\n",
      "          bus0   bus1 type carrier  efficiency  active  build_year  lifetime  \\\n",
      "Link                                                                           \n",
      "dc_link  bus 0  bus 2                     0.95    True           0       inf   \n",
      "\n",
      "         p_nom  p_nom_mod  ...  shut_down_cost  min_up_time  min_down_time  \\\n",
      "Link                       ...                                               \n",
      "dc_link   50.0        0.0  ...             0.0            0              0   \n",
      "\n",
      "         up_time_before  down_time_before  ramp_limit_up  ramp_limit_down  \\\n",
      "Link                                                                        \n",
      "dc_link               1                 0            NaN              NaN   \n",
      "\n",
      "         ramp_limit_start_up  ramp_limit_shut_down  p_nom_opt  \n",
      "Link                                                           \n",
      "dc_link                  1.0                   1.0        0.0  \n",
      "\n",
      "[1 rows x 34 columns]\n"
     ]
    }
   ],
   "source": [
    "# Add AC transmission lines\n",
    "for i in range(3):\n",
    "    network.add(\n",
    "        \"Line\",\n",
    "        f\"line_{i}\",\n",
    "        bus0=f\"bus {i}\",\n",
    "        bus1=f\"bus {(i + 1) % 3}\",\n",
    "        x=0.1,  # Reactance\n",
    "        r=0.01,  # Resistance\n",
    "        s_nom=100,  # Nominal apparent power\n",
    "        s_nom_extendable=True,  # Allow capacity expansion\n",
    "        capital_cost=1000  # Investment cost per MVA\n",
    "    )\n",
    "\n",
    "# Add a DC link\n",
    "network.add(\n",
    "    \"Link\",\n",
    "    \"dc_link\",\n",
    "    bus0=\"bus 0\",\n",
    "    bus1=\"bus 2\",\n",
    "    p_nom=50,\n",
    "    p_nom_extendable=True,\n",
    "    capital_cost=2000,\n",
    "    efficiency=0.95  # DC link efficiency\n",
    ")\n",
    "\n",
    "print(\"Lines in the network:\")\n",
    "print(network.lines)\n",
    "\n",
    "print(\"\\nLinks in the network:\")\n",
    "print(network.links)"
   ]
  },
  {
   "cell_type": "markdown",
   "metadata": {},
   "source": [
    "## Stores\n",
    "\n",
    "Stores represent storage units that can charge and discharge:"
   ]
  },
  {
   "cell_type": "code",
   "execution_count": 5,
   "metadata": {},
   "outputs": [
    {
     "name": "stdout",
     "output_type": "stream",
     "text": [
      "Stores in the network:\n",
      "           bus type carrier  e_nom  e_nom_mod  e_nom_extendable  e_nom_min  \\\n",
      "Store                                                                        \n",
      "battery  bus 1               100.0        0.0              True        0.0   \n",
      "\n",
      "         e_nom_max  e_min_pu  e_max_pu  ...  capital_cost  standing_loss  \\\n",
      "Store                                   ...                                \n",
      "battery        inf       0.1       1.0  ...           0.0            0.0   \n",
      "\n",
      "         active  build_year  lifetime  e_nom_opt  p_nom_extendable  \\\n",
      "Store                                                                \n",
      "battery    True           0       inf        0.0              True   \n",
      "\n",
      "         capital_cost_e  capital_cost_p  p_nom  \n",
      "Store                                           \n",
      "battery             100            1000     20  \n",
      "\n",
      "[1 rows x 30 columns]\n"
     ]
    }
   ],
   "source": [
    "# Add a storage unit\n",
    "network.add(\n",
    "    \"Store\",\n",
    "    \"battery\",\n",
    "    bus=\"bus 1\",\n",
    "    e_nom=100,  # Nominal energy capacity\n",
    "    e_nom_extendable=True,  # Allow capacity expansion\n",
    "    e_cyclic=True,  # Allow cyclic operation\n",
    "    e_min_pu=0.1,  # Minimum energy level as fraction of e_nom\n",
    "    p_nom=20,  # Nominal power capacity\n",
    "    p_nom_extendable=True,  # Allow power capacity expansion\n",
    "    capital_cost_e=100,  # Investment cost per MWh\n",
    "    capital_cost_p=1000,  # Investment cost per MW\n",
    "    marginal_cost=0.1  # Operating cost per MWh\n",
    ")\n",
    "\n",
    "print(\"Stores in the network:\")\n",
    "print(network.stores)"
   ]
  },
  {
   "cell_type": "markdown",
   "metadata": {},
   "source": [
    "## Component Attributes\n",
    "\n",
    "Key attributes for different components:\n",
    "\n",
    "### Generators\n",
    "- `p_nom`: Nominal power capacity\n",
    "- `p_nom_extendable`: Whether capacity can be expanded\n",
    "- `marginal_cost`: Operating cost per MWh\n",
    "- `capital_cost`: Investment cost per MW\n",
    "- `efficiency`: Conversion efficiency\n",
    "- `p_max_pu`: Maximum power output as fraction of p_nom\n",
    "\n",
    "### Loads\n",
    "- `p_set`: Power demand (fixed or time series)\n",
    "\n",
    "### Lines\n",
    "- `s_nom`: Nominal apparent power\n",
    "- `x`: Reactance\n",
    "- `r`: Resistance\n",
    "- `capital_cost`: Investment cost per MVA\n",
    "\n",
    "### Stores\n",
    "- `e_nom`: Nominal energy capacity\n",
    "- `p_nom`: Nominal power capacity\n",
    "- `e_cyclic`: Whether storage can be cycled\n",
    "- `e_min_pu`: Minimum energy level\n",
    "- `capital_cost_e`: Investment cost per MWh\n",
    "- `capital_cost_p`: Investment cost per MW\n",
    "\n",
    "## Next Steps\n",
    "\n",
    "In the next tutorial, we'll learn how to visualize and analyze these components in the network."
   ]
  }
 ],
 "metadata": {
  "kernelspec": {
   "display_name": ".venv",
   "language": "python",
   "name": "python3"
  },
  "language_info": {
   "codemirror_mode": {
    "name": "ipython",
    "version": 3
   },
   "file_extension": ".py",
   "mimetype": "text/x-python",
   "name": "python",
   "nbconvert_exporter": "python",
   "pygments_lexer": "ipython3",
   "version": "3.13.1"
  }
 },
 "nbformat": 4,
 "nbformat_minor": 2
}
