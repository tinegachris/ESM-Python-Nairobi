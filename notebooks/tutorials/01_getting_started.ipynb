{
 "cells": [
  {
   "cell_type": "markdown",
   "metadata": {},
   "source": [
    "# Getting Started with PyPSA\n",
    "\n",
    "This tutorial introduces you to PyPSA (Python for Power System Analysis), a free software toolbox for simulating and optimizing modern power systems.\n",
    "\n",
    "## Prerequisites\n",
    "\n",
    "Before starting this tutorial, you should have:\n",
    "- Basic understanding of Python programming\n",
    "- Familiarity with power systems concepts (AC power flow, per-unit system)\n",
    "- Python 3.7 or higher installed\n",
    "- Understanding of pandas and numpy for data manipulation\n",
    "\n",
    "## Installation\n",
    "\n",
    "You can install PyPSA and its dependencies using pip:\n",
    "```bash\n",
    "pip install pypsa pandas numpy matplotlib\n",
    "```\n",
    "\n",
    "For development and type checking, you might also want:\n",
    "```bash\n",
    "pip install types-pandas types-numpy\n",
    "```\n",
    "\n",
    "## What is PyPSA?\n",
    "\n",
    "PyPSA is a free software toolbox for simulating and optimizing modern power systems. It supports:\n",
    "\n",
    "- Conventional generators with unit commitment\n",
    "- Variable renewable generation (wind, solar)\n",
    "- Storage units (batteries, pumped hydro)\n",
    "- Transmission lines and networks\n",
    "- Coupling to other energy sectors (heat, transport)\n",
    "- Investment and operational optimization\n",
    "\n",
    "## Basic Network Creation\n",
    "\n",
    "Let's start by creating a simple network with three buses connected in a ring. This example will demonstrate basic PyPSA concepts.\n"
   ]
  },
  {
   "cell_type": "code",
   "execution_count": null,
   "metadata": {},
   "outputs": [],
   "source": [
    "import pypsa\n",
    "import pandas as pd\n",
    "import numpy as np\n",
    "import matplotlib.pyplot as plt\n",
    "from typing import Optional\n",
    "\n",
    "# Create a new network\n",
    "network = pypsa.Network()\n",
    "\n",
    "# Add three buses with nominal voltage of 20 kV\n",
    "# Note: All voltages in PyPSA are in kV\n",
    "for i in range(3):\n",
    "    network.add(\"Bus\", f\"bus {i}\", v_nom=20.0)\n",
    "\n",
    "print(\"Buses in the network:\")\n",
    "print(network.buses)\n"
   ]
  },
  {
   "cell_type": "markdown",
   "metadata": {},
   "source": [
    "## Adding Time Series\n",
    "\n",
    "PyPSA works with time series data to model temporal variations in power systems. \n",
    "The snapshots define the time points for which the network will be analyzed.\n"
   ]
  },
  {
   "cell_type": "code",
   "execution_count": null,
   "metadata": {},
   "outputs": [],
   "source": [
    "# Create time series for 24 hours\n",
    "snapshots = pd.date_range(\"2024-01-01\", periods=24, freq=\"h\")\n",
    "network.set_snapshots(snapshots)\n",
    "\n",
    "print(\"Network snapshots:\")\n",
    "print(network.snapshots)\n"
   ]
  },
  {
   "cell_type": "markdown",
   "metadata": {},
   "source": [
    "## Adding Basic Components\n",
    "\n",
    "Now let's add some basic components to our network. We'll create:\n",
    "- A gas generator at bus 0\n",
    "- A load at bus 1\n",
    "- Transmission lines connecting the buses in a ring\n",
    "\n",
    "Note: All power values in PyPSA are in MW, and all costs are in EUR/MWh\n"
   ]
  },
  {
   "cell_type": "code",
   "execution_count": null,
   "metadata": {},
   "outputs": [],
   "source": [
    "# Add a gas generator at bus 0 with 100 MW capacity\n",
    "network.add(\n",
    "    \"Generator\",\n",
    "    \"gas\",\n",
    "    bus=\"bus 0\",\n",
    "    p_nom=100,  # Nominal power in MW\n",
    "    marginal_cost=50,  # Marginal cost in EUR/MWh\n",
    "    carrier=\"gas\",\n",
    "    p_min_pu=0.3,  # Minimum power output as fraction of p_nom\n",
    "    p_max_pu=1.0   # Maximum power output as fraction of p_nom\n",
    ")\n",
    "\n",
    "# Add a load at bus 1 with 50 MW demand\n",
    "network.add(\n",
    "    \"Load\",\n",
    "    \"load\",\n",
    "    bus=\"bus 1\",\n",
    "    p_set=50  # Fixed power demand in MW\n",
    ")\n",
    "\n",
    "# Add lines connecting the buses in a ring\n",
    "# Note: Line parameters are in per-unit (p.u.) values\n",
    "for i in range(3):\n",
    "    network.add(\n",
    "        \"Line\",\n",
    "        f\"line {i}\",\n",
    "        bus0=f\"bus {i}\",\n",
    "        bus1=f\"bus {(i + 1) % 3}\",\n",
    "        x=0.1,  # Reactance in p.u.\n",
    "        r=0.01,  # Resistance in p.u.\n",
    "        s_nom=100,  # Nominal apparent power in MVA\n",
    "        s_max_pu=1.0  # Maximum loading as fraction of s_nom\n",
    "    )\n",
    "\n",
    "print(\"\\nGenerators in the network:\")\n",
    "print(network.generators)\n",
    "\n",
    "print(\"\\nLoads in the network:\")\n",
    "print(network.loads)\n",
    "\n",
    "print(\"\\nLines in the network:\")\n",
    "print(network.lines)\n"
   ]
  },
  {
   "cell_type": "markdown",
   "metadata": {},
   "source": [
    "## Basic Network Analysis\n",
    "\n",
    "Let's perform a simple power flow analysis to understand how power flows through our network.\n",
    "The power flow analysis solves for:\n",
    "- Bus voltages and angles\n",
    "- Active and reactive power flows\n",
    "- Generator dispatch\n"
   ]
  },
  {
   "cell_type": "code",
   "execution_count": null,
   "metadata": {},
   "outputs": [],
   "source": [
    "try:\n",
    "    # Solve power flow\n",
    "    network.pf()\n",
    "    \n",
    "    # Print power flows on lines\n",
    "    print(\"Power flows on lines (positive values indicate flow from bus0 to bus1):\")\n",
    "    print(network.lines_t.p0)\n",
    "    \n",
    "    # Print bus voltages\n",
    "    print(\"\\nBus voltages (p.u.):\")\n",
    "    print(network.buses_t.v_mag_pu)\n",
    "    \n",
    "except Exception as e:\n",
    "    print(f\"Error during power flow calculation: {str(e)}\")\n"
   ]
  },
  {
   "cell_type": "markdown",
   "metadata": {},
   "source": [
    "## Visualization\n",
    "\n",
    "Let's create a simple visualization of our network:\n"
   ]
  },
  {
   "cell_type": "code",
   "execution_count": null,
   "metadata": {},
   "outputs": [],
   "source": [
    "try:\n",
    "    # Plot the network\n",
    "    network.plot()\n",
    "    plt.title(\"Simple Three-Bus Network\")\n",
    "    plt.xlabel(\"Longitude\")\n",
    "    plt.ylabel(\"Latitude\")\n",
    "    plt.grid(True)\n",
    "    plt.show()\n",
    "except Exception as e:\n",
    "    print(f\"Error during visualization: {str(e)}\")\n"
   ]
  },
  {
   "cell_type": "markdown",
   "metadata": {},
   "source": [
    "## Key Concepts\n",
    "\n",
    "1. **Network**: The main container for all components\n",
    "2. **Bus**: A node in the network where components are connected\n",
    "3. **Components**: Different types of equipment (generators, loads, lines, etc.)\n",
    "4. **Time Series**: Snapshots represent different time periods\n",
    "5. **Power Flow**: Analysis of power flows in the network\n",
    "\n",
    "## Common Parameters\n",
    "\n",
    "- `p_nom`: Nominal power capacity (MW)\n",
    "- `marginal_cost`: Cost per unit of energy (EUR/MWh)\n",
    "- `p_set`: Fixed power demand or generation (MW)\n",
    "- `v_nom`: Nominal voltage (kV)\n",
    "- `x`: Line reactance (p.u.)\n",
    "- `r`: Line resistance (p.u.)\n",
    "- `s_nom`: Nominal apparent power (MVA)\n",
    "- `p_min_pu`: Minimum power output as fraction of p_nom\n",
    "- `p_max_pu`: Maximum power output as fraction of p_nom\n",
    "- `s_max_pu`: Maximum line loading as fraction of s_nom\n",
    "\n",
    "## Next Steps\n",
    "\n",
    "In the next tutorial, we'll explore:\n",
    "- Adding variable renewable generation (wind, solar) with time series\n",
    "- Implementing storage systems with charging/discharging constraints\n",
    "- Creating more complex network topologies with multiple voltage levels\n",
    "- Performing economic optimization with investment decisions\n",
    "- Analyzing network constraints and congestion\n",
    "- Adding contingency analysis and N-1 security checks\n"
   ]
  }
 ],
 "metadata": {
  "kernelspec": {
   "display_name": "venv",
   "language": "python",
   "name": "python3"
  },
  "language_info": {
   "codemirror_mode": {
    "name": "ipython",
    "version": 3
   },
   "file_extension": ".py",
   "mimetype": "text/x-python",
   "name": "python",
   "nbconvert_exporter": "python",
   "pygments_lexer": "ipython3",
   "version": "3.12.9"
  }
 },
 "nbformat": 4,
 "nbformat_minor": 2
}
