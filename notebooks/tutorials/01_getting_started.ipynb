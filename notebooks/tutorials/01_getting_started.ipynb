{
 "cells": [
  {
   "cell_type": "markdown",
   "metadata": {},
   "source": [
    "# Getting Started with PyPSA\n",
    "\n",
    "This tutorial introduces you to PyPSA (Python for Power System Analysis), a free software toolbox for simulating and optimizing modern power systems.\n",
    "\n",
    "## What is PyPSA?\n",
    "\n",
    "PyPSA is a free software toolbox for simulating and optimizing modern power systems. It supports:\n",
    "\n",
    "- Conventional generators with unit commitment\n",
    "- Variable renewable generation\n",
    "- Storage units\n",
    "- Transmission lines\n",
    "- Coupling to other energy sectors\n",
    "- Investment and operational optimization\n",
    "\n",
    "## Basic Network Creation\n",
    "\n",
    "Let's start by creating a simple network with three buses connected in a ring."
   ]
  },
  {
   "cell_type": "code",
   "execution_count": null,
   "metadata": {},
   "outputs": [],
   "source": [
    "import pypsa\n",
    "import pandas as pd\n",
    "import numpy as np\n",
    "\n",
    "# Create a new network\n",
    "network = pypsa.Network()\n",
    "\n",
    "# Add three buses\n",
    "for i in range(3):\n",
    "    network.add(\"Bus\", f\"bus {i}\", v_nom=20.0)\n",
    "\n",
    "print(\"Buses in the network:\")\n",
    "print(network.buses)"
   ]
  },
  {
   "cell_type": "markdown",
   "metadata": {},
   "source": [
    "## Adding Time Series\n",
    "\n",
    "PyPSA works with time series data. Let's add some snapshots to our network:"
   ]
  },
  {
   "cell_type": "code",
   "execution_count": null,
   "metadata": {},
   "outputs": [],
   "source": [
    "# Create time series for 24 hours\n",
    "snapshots = pd.date_range(\"2024-01-01\", periods=24, freq=\"H\")\n",
    "network.set_snapshots(snapshots)\n",
    "\n",
    "print(\"Network snapshots:\")\n",
    "print(network.snapshots)"
   ]
  },
  {
   "cell_type": "markdown",
   "metadata": {},
   "source": [
    "## Adding Basic Components\n",
    "\n",
    "Now let's add some basic components to our network:"
   ]
  },
  {
   "cell_type": "code",
   "execution_count": null,
   "metadata": {},
   "outputs": [],
   "source": [
    "# Add a generator at bus 0\n",
    "network.add(\n",
    "    \"Generator\",\n",
    "    \"gas\",\n",
    "    bus=\"bus 0\",\n",
    "    p_nom=100,\n",
    "    marginal_cost=50,\n",
    "    carrier=\"gas\"\n",
    ")\n",
    "\n",
    "# Add a load at bus 1\n",
    "network.add(\n",
    "    \"Load\",\n",
    "    \"load\",\n",
    "    bus=\"bus 1\",\n",
    "    p_set=50\n",
    ")\n",
    "\n",
    "# Add lines connecting the buses in a ring\n",
    "for i in range(3):\n",
    "    network.add(\n",
    "        \"Line\",\n",
    "        f\"line {i}\",\n",
    "        bus0=f\"bus {i}\",\n",
    "        bus1=f\"bus {(i + 1) % 3}\",\n",
    "        x=0.1,\n",
    "        r=0.01,\n",
    "        s_nom=100\n",
    "    )\n",
    "\n",
    "print(\"\\nGenerators in the network:\")\n",
    "print(network.generators)\n",
    "\n",
    "print(\"\\nLoads in the network:\")\n",
    "print(network.loads)\n",
    "\n",
    "print(\"\\nLines in the network:\")\n",
    "print(network.lines)"
   ]
  },
  {
   "cell_type": "markdown",
   "metadata": {},
   "source": [
    "## Basic Network Analysis\n",
    "\n",
    "Let's perform a simple power flow analysis:"
   ]
  },
  {
   "cell_type": "code",
   "execution_count": null,
   "metadata": {},
   "outputs": [],
   "source": [
    "# Solve power flow\n",
    "network.pf()\n",
    "\n",
    "# Print power flows on lines\n",
    "print(\"Power flows on lines:\")\n",
    "print(network.lines_t.p0)"
   ]
  },
  {
   "cell_type": "markdown",
   "metadata": {},
   "source": [
    "## Key Concepts\n",
    "\n",
    "1. **Network**: The main container for all components\n",
    "2. **Bus**: A node in the network where components are connected\n",
    "3. **Components**: Different types of equipment (generators, loads, lines, etc.)\n",
    "4. **Time Series**: Snapshots represent different time periods\n",
    "5. **Power Flow**: Analysis of power flows in the network\n",
    "\n",
    "## Next Steps\n",
    "\n",
    "In the next tutorial, we'll explore different types of components in more detail and learn how to configure them for various use cases."
   ]
  }
 ],
 "metadata": {
  "kernelspec": {
   "display_name": "venv",
   "language": "python",
   "name": "python3"
  },
  "language_info": {
   "codemirror_mode": {
    "name": "ipython",
    "version": 3
   },
   "file_extension": ".py",
   "mimetype": "text/x-python",
   "name": "python",
   "nbconvert_exporter": "python",
   "pygments_lexer": "ipython3",
   "version": "3.12.9"
  }
 },
 "nbformat": 4,
 "nbformat_minor": 2
}
