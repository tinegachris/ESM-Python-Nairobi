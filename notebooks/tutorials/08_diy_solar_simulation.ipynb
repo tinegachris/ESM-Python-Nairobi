{
 "cells": [
  {
   "cell_type": "markdown",
   "metadata": {},
   "source": [
    "# Bonus Tutorial: Optimizing a Simple Solar Home System\n",
    "\n",
    "This bonus tutorial demonstrates how PyPSA can model a small, real-life energy system, like a Solar Home System (SHS) commonly used in off-grid areas or for backup power. This is relevant for DIY enthusiasts or understanding small-scale energy management in contexts like Kenya.\n",
    "\n",
    "**Scenario:** We have a small household with basic electricity needs (lights, phone charging). They have installed a small solar PV panel and a battery.\n",
    "\n",
    "**Goal:** We want to simulate the operation of this system over a typical day to see how the solar panel charges the battery and powers the load. This helps assess if the chosen component sizes (PV panel, battery) are likely sufficient for the expected daily usage, minimizing reliance on any potential backup (or minimizing unmet load if fully off-grid).\n",
    "\n",
    "**Concepts Covered:**\n",
    "- Defining `Bus`, `Generator` (PV), `Store` (Battery), `Load`.\n",
    "- Using simple time-series data for solar availability (`p_max_pu`) and load (`p_set`).\n",
    "- Running a basic operational simulation (`optimize`).\n",
    "- Visualizing system behaviour (PV output, Load, Battery State of Charge)."
   ]
  },
  {
   "cell_type": "code",
   "execution_count": null,
   "metadata": {},
   "outputs": [],
   "source": [
    "import pypsa\n",
    "import pandas as pd\n",
    "import numpy as np\n",
    "import matplotlib.pyplot as plt\n",
    "\n",
    "# Create a network for a single day (24 hours)\n",
    "network = pypsa.Network()\n",
    "snapshots = pd.date_range(\"2024-01-01 00:00\", periods=24, freq=\"h\")\n",
    "network.set_snapshots(snapshots)\n",
    "\n",
    "# Add the main electricity bus for the home\n",
    "network.add(\"Bus\", \"Household AC Bus\", carrier=\"AC\")\n",
    "\n",
    "# Add Carriers (optional, but good practice)\n",
    "network.add(\"Carrier\", \"Solar\")\n",
    "# We could add a 'Grid' or 'Kerosene' carrier if modeling backup, but let's keep it simple (off-grid)\n",
    "# network.add(\"Carrier\", \"Grid\")"
   ]
  },
  {
   "cell_type": "markdown",
   "metadata": {},
   "source": [
    "## Define System Components\n",
    "\n",
    "Let's define the PV Panel, Battery, and Household Load."
   ]
  },
  {
   "cell_type": "code",
   "execution_count": null,
   "metadata": {},
   "outputs": [],
   "source": [
    "# 1. Solar PV Panel (Generator)\n",
    "# Small panel, e.g., 150W peak\n",
    "pv_capacity_kw = 0.15 # kW\n",
    "# Simple sunny day profile (0 at night, peaks at midday)\n",
    "pv_profile = pd.Series([0, 0, 0, 0, 0, 0.1, 0.3, 0.6, 0.8, 0.95, 1.0, 0.95, \n",
    "                       0.8, 0.6, 0.3, 0.1, 0, 0, 0, 0, 0, 0, 0, 0], index=network.snapshots)\n",
    "network.add(\n",
    "    \"Generator\",\n",
    "    \"PV Panel\",\n",
    "    bus=\"Household AC Bus\",\n",
    "    p_nom=pv_capacity_kw, # Use kW for smaller scale\n",
    "    p_nom_extendable=False,\n",
    "    carrier=\"Solar\",\n",
    "    marginal_cost=0, # Assume zero cost for sunlight\n",
    "    p_max_pu=pv_profile # The availability profile\n",
    ")\n",
    "\n",
    "# 2. Battery Storage (Store)\n",
    "# Small battery, e.g., 100Ah @ 12V = 1.2 kWh. Let's use kWh.\n",
    "battery_capacity_kwh = 1.2 # kWh\n",
    "battery_power_kw = 0.5 # Max charge/discharge rate (kW)\n",
    "network.add(\n",
    "    \"Store\",\n",
    "    \"Home Battery\",\n",
    "    bus=\"Household AC Bus\",\n",
    "    e_nom=battery_capacity_kwh, # Energy capacity in kWh\n",
    "    p_nom=battery_power_kw,     # Power capacity in kW\n",
    "    e_nom_extendable=False,\n",
    "    p_nom_extendable=False,\n",
    "    e_cyclic=True, # Assume battery can cycle daily\n",
    "    e_initial=0.5, # Start at 50% state of charge\n",
    "    e_min_pu=0.1,  # Min state of charge (10%)\n",
    "    e_max_pu=0.95, # Max state of charge (95%)\n",
    "    efficiency_store=0.9, # Charging efficiency\n",
    "    efficiency_dispatch=0.9, # Discharging efficiency\n",
    "    marginal_cost=0.01 # Very small cost to encourage using battery when needed\n",
    ")\n",
    "\n",
    "# 3. Household Load (Load)\n",
    "# Basic load: lights in evening, phone charging during day/evening\n",
    "# Let's define load in kW\n",
    "load_profile_kw = pd.Series([0.01]*6 + [0.02]*2 + [0.05]*4 + [0.02]*4 + [0.1]*4 + [0.05]*4, index=network.snapshots)\n",
    "network.add(\n",
    "    \"Load\",\n",
    "    \"Household Load\",\n",
    "    bus=\"Household AC Bus\",\n",
    "    p_set=load_profile_kw # The demand profile in kW\n",
    ")\n",
    "\n",
    "# (Optional) Add a very expensive 'unmet load' generator if purely off-grid\n",
    "# This represents load shedding. It acts as a backup sink for energy if the optimization\n",
    "# problem becomes infeasible, ensuring it can always find *a* solution.\n",
    "# Its high cost ensures it's only used as a last resort.\n",
    "network.add(\"Generator\", \"Unmet Load\", bus=\"Household AC Bus\", p_nom=1, marginal_cost=1000)"
   ]
  },
  {
   "cell_type": "markdown",
   "metadata": {},
   "source": [
    "## Simulate System Operation\n",
    "\n",
    "Now, we run the linear optimal power flow (`lopf`) to simulate how the system meets the load using the PV and battery."
   ]
  },
  {
   "cell_type": "code",
   "execution_count": null,
   "metadata": {},
   "outputs": [],
   "source": [
    "# Solve the operational problem\n",
    "print(\"Simulating Solar Home System operation...\")\n",
    "status, condition = network.optimize()\n",
    "\n",
    "print(f\"Solver Status: {status}, Termination Condition: {condition}\")\n",
    "\n",
    "if status == \"ok\" and condition == \"optimal\":\n",
    "    print(f\"Simulation successful. Total cost (proxy for unmet load/losses): {network.objective:.2f}\")\n",
    "else:\n",
    "    print(\"Simulation did not find an optimal solution. Check model setup or solver.\")"
   ]
  },
  {
   "cell_type": "markdown",
   "metadata": {},
   "source": [
    "## Visualize the Results\n",
    "\n",
    "Let's plot the key results: PV generation, load demand, battery charging/discharging, and battery state of charge (SOC)."
   ]
  },
  {
   "cell_type": "code",
   "execution_count": null,
   "metadata": {},
   "outputs": [],
   "source": [
    "if status == \"ok\" and condition == \"optimal\":\n",
    "    # Create a figure with subplots\n",
    "    fig, axes = plt.subplots(3, 1, figsize=(10, 12), sharex=True)\n",
    "\n",
    "    # 1. Plot PV Generation vs Load\n",
    "    network.generators_t.p[\"PV Panel\"].plot(ax=axes[0], label=\"PV Generation (kW)\", color='orange')\n",
    "    network.loads_t.p_set[\"Household Load\"].plot(ax=axes[0], label=\"Load Demand (kW)\", color='blue', linestyle='--')\n",
    "    axes[0].set_ylabel(\"Power (kW)\")\n",
    "    axes[0].set_title(\"PV Generation and Load Demand\")\n",
    "    axes[0].legend()\n",
    "    axes[0].grid(True)\n",
    "\n",
    "    # 2. Plot Battery Dispatch (Charge/Discharge)\n",
    "    # network.stores_t.p shows dispatch (positive) and storage (negative)\n",
    "    network.stores_t.p[\"Home Battery\"].plot(ax=axes[1], label=\"Battery Power (kW) [Discharge > 0, Charge < 0]\", color='green')\n",
    "    axes[1].set_ylabel(\"Power (kW)\")\n",
    "    axes[1].set_title(\"Battery Charging/Discharging Power\")\n",
    "    axes[1].legend()\n",
    "    axes[1].grid(True)\n",
    "    axes[1].axhline(0, color='grey', linewidth=0.5) # Add zero line\n",
    "\n",
    "    # 3. Plot Battery State of Charge (SOC)\n",
    "    network.stores_t.e[\"Home Battery\"].plot(ax=axes[2], label=\"Battery Energy (kWh)\", color='purple')\n",
    "    axes[2].set_ylabel(\"Energy (kWh)\")\n",
    "    axes[2].set_title(\"Battery State of Charge\")\n",
    "    axes[2].legend()\n",
    "    axes[2].grid(True)\n",
    "    # Add min/max SOC lines based on e_nom and min/max_pu\n",
    "    min_soc = network.stores.at[\"Home Battery\", \"e_min_pu\"] * network.stores.at[\"Home Battery\", \"e_nom\"]\n",
    "    max_soc = network.stores.at[\"Home Battery\", \"e_max_pu\"] * network.stores.at[\"Home Battery\", \"e_nom\"]\n",
    "    axes[2].axhline(min_soc, color='red', linestyle=':', linewidth=1, label=f'Min SOC ({min_soc:.2f} kWh)')\n",
    "    axes[2].axhline(max_soc, color='red', linestyle=':', linewidth=1, label=f'Max SOC ({max_soc:.2f} kWh)')\n",
    "    axes[2].legend()\n",
    "\n",
    "    # Add unmet load if relevant\n",
    "    if \"Unmet Load\" in network.generators_t.p.columns and network.generators_t.p[\"Unmet Load\"].sum() > 0.01:\n",
    "        unmet = network.generators_t.p[\"Unmet Load\"]\n",
    "        axes[0].plot(unmet.index, unmet, label=\"Unmet Load (kW)\", color='red', linestyle=':')\n",
    "        axes[0].legend() # Update legend\n",
    "        print(f\"Warning: Total unmet load was {unmet.sum():.2f} kWh\")\n",
    "\n",
    "    plt.xlabel(\"Time of Day\")\n",
    "    plt.tight_layout()\n",
    "    plt.show()\n",
    "else:\n",
    "    print(\"Cannot plot results as simulation was not successful.\")"
   ]
  },
  {
   "cell_type": "markdown",
   "metadata": {},
   "source": [
    "## Summary & Interpretation\n",
    "\n",
    "This simple example shows how PyPSA can model the interplay between solar generation, battery storage, and household demand.\n",
    "\n",
    "- **During the day:** The PV panel generates electricity. This power meets the immediate load, and any excess is used to charge the battery (observe negative power in the second plot and rising SOC in the third plot).\n",
    "- **During the evening/night:** When PV generation is low or zero, the battery discharges (positive power in the second plot, falling SOC in the third plot) to meet the household load.\n",
    "- **Optimization Goal:** The `optimize` function implicitly minimizes the cost. Since PV is free (marginal_cost=0) and the battery has a tiny cost, the system prioritizes using PV directly, then storing excess PV in the battery, and finally discharging the battery to meet the load. The expensive \"Unmet Load\" generator is only used if the PV and battery cannot meet the demand.\n",
    "\n",
    "This model could be extended to:\n",
    "- Use more realistic, granular weather data and load profiles.\n",
    "- Include costs for components to perform sizing optimization (like Tutorial 05).\n",
    "- Model grid connection or other backup sources.\n",
    "- Analyze different battery sizes or PV panel capacities."
   ]
  }
 ],
 "metadata": {
  "kernelspec": {
   "display_name": "venv",
   "language": "python",
   "name": "python3"
  },
  "language_info": {
   "codemirror_mode": {
    "name": "ipython",
    "version": 3
   },
   "file_extension": ".py",
   "mimetype": "text/x-python",
   "name": "python",
   "nbconvert_exporter": "python",
   "pygments_lexer": "ipython3",
   "version": "3.12.9"
  }
 },
 "nbformat": 4,
 "nbformat_minor": 2
}
